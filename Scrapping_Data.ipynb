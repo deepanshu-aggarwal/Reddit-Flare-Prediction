{
 "cells": [
  {
   "cell_type": "code",
   "execution_count": 2,
   "metadata": {},
   "outputs": [
    {
     "name": "stdout",
     "output_type": "stream",
     "text": [
      "Collecting praw\n",
      "  Downloading praw-7.5.0-py3-none-any.whl (176 kB)\n",
      "Collecting websocket-client>=0.54.0\n",
      "  Downloading websocket_client-1.2.3-py3-none-any.whl (53 kB)\n",
      "Collecting prawcore<3,>=2.1\n",
      "  Downloading prawcore-2.3.0-py3-none-any.whl (16 kB)\n",
      "Collecting update-checker>=0.18\n",
      "  Downloading update_checker-0.18.0-py3-none-any.whl (7.0 kB)\n",
      "Requirement already satisfied: requests<3.0,>=2.6.0 in c:\\users\\deepa\\anaconda3\\lib\\site-packages (from prawcore<3,>=2.1->praw) (2.24.0)\n",
      "Requirement already satisfied: chardet<4,>=3.0.2 in c:\\users\\deepa\\anaconda3\\lib\\site-packages (from requests<3.0,>=2.6.0->prawcore<3,>=2.1->praw) (3.0.4)\n",
      "Requirement already satisfied: urllib3!=1.25.0,!=1.25.1,<1.26,>=1.21.1 in c:\\users\\deepa\\anaconda3\\lib\\site-packages (from requests<3.0,>=2.6.0->prawcore<3,>=2.1->praw) (1.25.11)\n",
      "Requirement already satisfied: idna<3,>=2.5 in c:\\users\\deepa\\anaconda3\\lib\\site-packages (from requests<3.0,>=2.6.0->prawcore<3,>=2.1->praw) (2.10)\n",
      "Requirement already satisfied: certifi>=2017.4.17 in c:\\users\\deepa\\anaconda3\\lib\\site-packages (from requests<3.0,>=2.6.0->prawcore<3,>=2.1->praw) (2020.6.20)\n",
      "Installing collected packages: websocket-client, prawcore, update-checker, praw\n",
      "Successfully installed praw-7.5.0 prawcore-2.3.0 update-checker-0.18.0 websocket-client-1.2.3\n"
     ]
    }
   ],
   "source": [
    "!pip install praw"
   ]
  },
  {
   "cell_type": "code",
   "execution_count": 20,
   "metadata": {},
   "outputs": [
    {
     "name": "stdout",
     "output_type": "stream",
     "text": [
      "Collecting tldextract\n",
      "  Downloading tldextract-3.1.2-py2.py3-none-any.whl (87 kB)\n",
      "Requirement already satisfied: filelock>=3.0.8 in c:\\users\\deepa\\anaconda3\\lib\\site-packages (from tldextract) (3.0.12)\n",
      "Collecting requests-file>=1.4\n",
      "  Downloading requests_file-1.5.1-py2.py3-none-any.whl (3.7 kB)\n",
      "Requirement already satisfied: idna in c:\\users\\deepa\\anaconda3\\lib\\site-packages (from tldextract) (2.10)\n",
      "Requirement already satisfied: requests>=2.1.0 in c:\\users\\deepa\\anaconda3\\lib\\site-packages (from tldextract) (2.24.0)\n",
      "Requirement already satisfied: six in c:\\users\\deepa\\anaconda3\\lib\\site-packages (from requests-file>=1.4->tldextract) (1.15.0)\n",
      "Requirement already satisfied: chardet<4,>=3.0.2 in c:\\users\\deepa\\anaconda3\\lib\\site-packages (from requests>=2.1.0->tldextract) (3.0.4)\n",
      "Requirement already satisfied: urllib3!=1.25.0,!=1.25.1,<1.26,>=1.21.1 in c:\\users\\deepa\\anaconda3\\lib\\site-packages (from requests>=2.1.0->tldextract) (1.25.11)\n",
      "Requirement already satisfied: certifi>=2017.4.17 in c:\\users\\deepa\\anaconda3\\lib\\site-packages (from requests>=2.1.0->tldextract) (2020.6.20)\n",
      "Installing collected packages: requests-file, tldextract\n",
      "Successfully installed requests-file-1.5.1 tldextract-3.1.2\n"
     ]
    }
   ],
   "source": [
    "!pip install tldextract"
   ]
  },
  {
   "cell_type": "markdown",
   "metadata": {},
   "source": [
    "# Reddit Data Collection"
   ]
  },
  {
   "cell_type": "code",
   "execution_count": 21,
   "metadata": {},
   "outputs": [],
   "source": [
    "import praw\n",
    "import pandas as pd\n",
    "import numpy as np\n",
    "import datetime as dt\n",
    "import tldextract\n",
    "import matplotlib.pyplot as plt\n",
    "import re"
   ]
  },
  {
   "cell_type": "markdown",
   "metadata": {},
   "source": [
    "### Extracting /r/india data using praw"
   ]
  },
  {
   "cell_type": "code",
   "execution_count": 2,
   "metadata": {},
   "outputs": [],
   "source": [
    "user_agent = \"Scapper 1.0 by /u/deepanshu0008\"\n",
    "\n",
    "reddit = praw.Reddit(\n",
    "    client_id = \"QGnayb8IUgunsNbVN4pnsw\",\n",
    "    client_secret = \"U1SvgZ3tYqLIu2T1dr6w3TUOQ_I1gA\",\n",
    "    user_agent = user_agent\n",
    ")\n",
    "\n",
    "subreddit = reddit.subreddit('india')"
   ]
  },
  {
   "cell_type": "code",
   "execution_count": 3,
   "metadata": {},
   "outputs": [],
   "source": [
    "flairs = ['AskIndia', 'Business/Finance', 'Food', 'Non-Political', 'Photography', 'Policy/Economy', 'Politics', 'Scheduled',\n",
    "          'Science/Technology', 'Coronavirus']"
   ]
  },
  {
   "cell_type": "code",
   "execution_count": 4,
   "metadata": {},
   "outputs": [],
   "source": [
    "def get_date(created):\n",
    "    return dt.datetime.fromtimestamp(created)"
   ]
  },
  {
   "cell_type": "code",
   "execution_count": 5,
   "metadata": {},
   "outputs": [],
   "source": [
    "labels_dict = {\"flair\":[], \"title\":[], \"score\":[], \"id\":[], \"url\":[], \"comms_num\": [], \"created\": [], \"body\":[], \"author\":[], \"comments\":[]}"
   ]
  },
  {
   "cell_type": "code",
   "execution_count": null,
   "metadata": {},
   "outputs": [],
   "source": [
    "for flair in flairs:\n",
    "    \n",
    "    get_subreddits = subreddit.search(flair, limit=400)\n",
    "    \n",
    "    for submission in get_subreddits:\n",
    "        labels_dict['flair'].append(flair)\n",
    "        labels_dict['title'].append(submission.title)\n",
    "        labels_dict['score'].append(submission.score)\n",
    "        labels_dict['id'].append(submission.id)\n",
    "        labels_dict['url'].append(submission.url)\n",
    "        labels_dict[\"comms_num\"].append(submission.num_comments)\n",
    "        labels_dict[\"created\"].append(submission.created)\n",
    "        labels_dict[\"body\"].append(submission.selftext)\n",
    "        labels_dict[\"author\"].append(submission.author)\n",
    "        \n",
    "        submission.comments.replace_more(limit=None)\n",
    "        comment = ''\n",
    "        for top_level_comment in submission.comments:\n",
    "            comment = comment + ' ' + top_level_comment.body\n",
    "        labels_dict[\"comments\"].append(comment)"
   ]
  },
  {
   "cell_type": "code",
   "execution_count": null,
   "metadata": {},
   "outputs": [],
   "source": [
    "data = pd.DataFrame(labels_dict)\n",
    "data.sample"
   ]
  },
  {
   "cell_type": "code",
   "execution_count": null,
   "metadata": {},
   "outputs": [],
   "source": [
    "timedata = data['created'].apply(get_date)\n",
    "data = data.assign(timestamp = timedata)\n",
    "del data['created']"
   ]
  },
  {
   "cell_type": "code",
   "execution_count": null,
   "metadata": {},
   "outputs": [],
   "source": [
    "# Shuffling the rows\n",
    "data = data.sample(frac=1).reset_index(drop=True)"
   ]
  },
  {
   "cell_type": "code",
   "execution_count": null,
   "metadata": {},
   "outputs": [],
   "source": [
    "# Saving the data to csv file\n",
    "data.to_csv('reddit-india-data.csv', index = False)\n",
    "data.head()"
   ]
  },
  {
   "cell_type": "code",
   "execution_count": 14,
   "metadata": {},
   "outputs": [
    {
     "data": {
      "text/html": [
       "<div>\n",
       "<style scoped>\n",
       "    .dataframe tbody tr th:only-of-type {\n",
       "        vertical-align: middle;\n",
       "    }\n",
       "\n",
       "    .dataframe tbody tr th {\n",
       "        vertical-align: top;\n",
       "    }\n",
       "\n",
       "    .dataframe thead th {\n",
       "        text-align: right;\n",
       "    }\n",
       "</style>\n",
       "<table border=\"1\" class=\"dataframe\">\n",
       "  <thead>\n",
       "    <tr style=\"text-align: right;\">\n",
       "      <th></th>\n",
       "      <th>flair</th>\n",
       "      <th>title</th>\n",
       "      <th>score</th>\n",
       "      <th>id</th>\n",
       "      <th>url</th>\n",
       "      <th>comms_num</th>\n",
       "      <th>body</th>\n",
       "      <th>author</th>\n",
       "      <th>comments</th>\n",
       "      <th>timestamp</th>\n",
       "    </tr>\n",
       "  </thead>\n",
       "  <tbody>\n",
       "    <tr>\n",
       "      <th>2275</th>\n",
       "      <td>Policy/Economy</td>\n",
       "      <td>Crisis in economy retrievable with major polic...</td>\n",
       "      <td>7</td>\n",
       "      <td>j8z0st</td>\n",
       "      <td>https://www.sundayguardianlive.com/news/crisis...</td>\n",
       "      <td>0</td>\n",
       "      <td>NaN</td>\n",
       "      <td>Free_Physics</td>\n",
       "      <td>NaN</td>\n",
       "      <td>2020-10-11 18:02:43</td>\n",
       "    </tr>\n",
       "    <tr>\n",
       "      <th>2276</th>\n",
       "      <td>Scheduled</td>\n",
       "      <td>Monthly video games thread. December 2016 [Sch...</td>\n",
       "      <td>46</td>\n",
       "      <td>5fwcie</td>\n",
       "      <td>https://www.reddit.com/r/india/comments/5fwcie...</td>\n",
       "      <td>131</td>\n",
       "      <td>Let us use this thread to discuss games that w...</td>\n",
       "      <td>axaytsg</td>\n",
       "      <td>Bought games legally for the first time in li...</td>\n",
       "      <td>2016-12-02 02:10:03</td>\n",
       "    </tr>\n",
       "    <tr>\n",
       "      <th>2277</th>\n",
       "      <td>Business/Finance</td>\n",
       "      <td>What would be a better decision? [Serious]</td>\n",
       "      <td>24</td>\n",
       "      <td>abqu80</td>\n",
       "      <td>https://www.reddit.com/r/india/comments/abqu80...</td>\n",
       "      <td>17</td>\n",
       "      <td>24 year old male, working in a day job from 8 ...</td>\n",
       "      <td>nosleepnomore</td>\n",
       "      <td>Bhai 8am-8pm is not a day job, it's slavery.\\...</td>\n",
       "      <td>2019-01-02 20:10:50</td>\n",
       "    </tr>\n",
       "    <tr>\n",
       "      <th>2278</th>\n",
       "      <td>Non-Political</td>\n",
       "      <td>The forgotten promise of 1949: The RSS wrote a...</td>\n",
       "      <td>30</td>\n",
       "      <td>9pqnpq</td>\n",
       "      <td>https://www.thehindu.com/opinion/lead/the-forg...</td>\n",
       "      <td>8</td>\n",
       "      <td>NaN</td>\n",
       "      <td>bliss_tree</td>\n",
       "      <td>you know what bhakts will say?\\r\\n\\r\\n&gt;\"what ...</td>\n",
       "      <td>2018-10-20 16:36:14</td>\n",
       "    </tr>\n",
       "    <tr>\n",
       "      <th>2279</th>\n",
       "      <td>Non-Political</td>\n",
       "      <td>[Non Political] [NP] (Ask India) Medical postg...</td>\n",
       "      <td>1</td>\n",
       "      <td>85b66l</td>\n",
       "      <td>https://www.reddit.com/r/india/comments/85b66l...</td>\n",
       "      <td>0</td>\n",
       "      <td>Realised that many discontinue use after getti...</td>\n",
       "      <td>Vickythiside</td>\n",
       "      <td>NaN</td>\n",
       "      <td>2018-03-19 02:50:46</td>\n",
       "    </tr>\n",
       "  </tbody>\n",
       "</table>\n",
       "</div>"
      ],
      "text/plain": [
       "                 flair                                              title  \\\n",
       "2275    Policy/Economy  Crisis in economy retrievable with major polic...   \n",
       "2276         Scheduled  Monthly video games thread. December 2016 [Sch...   \n",
       "2277  Business/Finance         What would be a better decision? [Serious]   \n",
       "2278     Non-Political  The forgotten promise of 1949: The RSS wrote a...   \n",
       "2279     Non-Political  [Non Political] [NP] (Ask India) Medical postg...   \n",
       "\n",
       "      score      id                                                url  \\\n",
       "2275      7  j8z0st  https://www.sundayguardianlive.com/news/crisis...   \n",
       "2276     46  5fwcie  https://www.reddit.com/r/india/comments/5fwcie...   \n",
       "2277     24  abqu80  https://www.reddit.com/r/india/comments/abqu80...   \n",
       "2278     30  9pqnpq  https://www.thehindu.com/opinion/lead/the-forg...   \n",
       "2279      1  85b66l  https://www.reddit.com/r/india/comments/85b66l...   \n",
       "\n",
       "      comms_num                                               body  \\\n",
       "2275          0                                                NaN   \n",
       "2276        131  Let us use this thread to discuss games that w...   \n",
       "2277         17  24 year old male, working in a day job from 8 ...   \n",
       "2278          8                                                NaN   \n",
       "2279          0  Realised that many discontinue use after getti...   \n",
       "\n",
       "             author                                           comments  \\\n",
       "2275   Free_Physics                                                NaN   \n",
       "2276        axaytsg   Bought games legally for the first time in li...   \n",
       "2277  nosleepnomore   Bhai 8am-8pm is not a day job, it's slavery.\\...   \n",
       "2278     bliss_tree   you know what bhakts will say?\\r\\n\\r\\n>\"what ...   \n",
       "2279   Vickythiside                                                NaN   \n",
       "\n",
       "                timestamp  \n",
       "2275  2020-10-11 18:02:43  \n",
       "2276  2016-12-02 02:10:03  \n",
       "2277  2019-01-02 20:10:50  \n",
       "2278  2018-10-20 16:36:14  \n",
       "2279  2018-03-19 02:50:46  "
      ]
     },
     "execution_count": 14,
     "metadata": {},
     "output_type": "execute_result"
    }
   ],
   "source": [
    "data = pd.read_csv('reddit-india-data.csv')\n",
    "data.tail()"
   ]
  },
  {
   "cell_type": "code",
   "execution_count": 15,
   "metadata": {},
   "outputs": [],
   "source": [
    "def string(value):\n",
    "    return str(value)"
   ]
  },
  {
   "cell_type": "code",
   "execution_count": 16,
   "metadata": {},
   "outputs": [],
   "source": [
    "data['title'] = data['title'].apply(string)\n",
    "data['body'] = data['body'].apply(string)\n",
    "data['comments'] = data['comments'].apply(string)"
   ]
  },
  {
   "cell_type": "code",
   "execution_count": 17,
   "metadata": {},
   "outputs": [],
   "source": [
    "# Importing required libraries\n",
    "\n",
    "from nltk.corpus import stopwords\n",
    "from nltk.stem import WordNetLemmatizer \n",
    "wordnet = WordNetLemmatizer()\n",
    "STOPWORDS = set(stopwords.words('english'))\n",
    "def text_cleaning(text):\n",
    "    review = re.sub('[^a-zA-Z]',' ',text) \n",
    "    review = review.lower()\n",
    "    text = ' '.join(wordnet.lemmatize(word) for word in text.split() if word not in STOPWORDS)\n",
    "    return text"
   ]
  },
  {
   "cell_type": "code",
   "execution_count": 26,
   "metadata": {},
   "outputs": [],
   "source": [
    "data['title'] = data['title'].apply(text_cleaning)\n",
    "data['body'] = data['body'].apply(text_cleaning)\n",
    "data['comments'] = data['comments'].apply(text_cleaning)"
   ]
  },
  {
   "cell_type": "code",
   "execution_count": 27,
   "metadata": {},
   "outputs": [],
   "source": [
    "combined_features = data[\"title\"] + data[\"comments\"] + data[\"url\"] + data[\"body\"]\n",
    "data = data.assign(combined_features = combined_features)"
   ]
  },
  {
   "cell_type": "code",
   "execution_count": 28,
   "metadata": {},
   "outputs": [],
   "source": [
    "data.to_csv('data.csv')"
   ]
  },
  {
   "cell_type": "code",
   "execution_count": 29,
   "metadata": {},
   "outputs": [
    {
     "data": {
      "text/html": [
       "<div>\n",
       "<style scoped>\n",
       "    .dataframe tbody tr th:only-of-type {\n",
       "        vertical-align: middle;\n",
       "    }\n",
       "\n",
       "    .dataframe tbody tr th {\n",
       "        vertical-align: top;\n",
       "    }\n",
       "\n",
       "    .dataframe thead th {\n",
       "        text-align: right;\n",
       "    }\n",
       "</style>\n",
       "<table border=\"1\" class=\"dataframe\">\n",
       "  <thead>\n",
       "    <tr style=\"text-align: right;\">\n",
       "      <th></th>\n",
       "      <th>Unnamed: 0</th>\n",
       "      <th>flair</th>\n",
       "      <th>title</th>\n",
       "      <th>score</th>\n",
       "      <th>id</th>\n",
       "      <th>url</th>\n",
       "      <th>comms_num</th>\n",
       "      <th>body</th>\n",
       "      <th>author</th>\n",
       "      <th>comments</th>\n",
       "      <th>timestamp</th>\n",
       "      <th>combined_features</th>\n",
       "    </tr>\n",
       "  </thead>\n",
       "  <tbody>\n",
       "    <tr>\n",
       "      <th>0</th>\n",
       "      <td>0</td>\n",
       "      <td>Business/Finance</td>\n",
       "      <td>Interest PF taxable: Finance minister eye PF i...</td>\n",
       "      <td>51</td>\n",
       "      <td>laoy5g</td>\n",
       "      <td>https://timesofindia.indiatimes.com/business/i...</td>\n",
       "      <td>20</td>\n",
       "      <td>NaN</td>\n",
       "      <td>satyasys</td>\n",
       "      <td>PF return fully taxable, point investing PF. G...</td>\n",
       "      <td>2021-02-02 19:30:37</td>\n",
       "      <td>Interest PF taxable: Finance minister eye PF i...</td>\n",
       "    </tr>\n",
       "    <tr>\n",
       "      <th>1</th>\n",
       "      <td>1</td>\n",
       "      <td>Food</td>\n",
       "      <td>How survive 500rs(food) 2 weeks?</td>\n",
       "      <td>55</td>\n",
       "      <td>kr3ztg</td>\n",
       "      <td>https://www.reddit.com/r/india/comments/kr3ztg...</td>\n",
       "      <td>79</td>\n",
       "      <td>Hey guys. So time salary going late I'll recei...</td>\n",
       "      <td>Luc_90</td>\n",
       "      <td>1. 2 kg cheap rice, 50/kg so, (Don't buy boile...</td>\n",
       "      <td>2021-01-06 07:40:59</td>\n",
       "      <td>How survive 500rs(food) 2 weeks?1. 2 kg cheap ...</td>\n",
       "    </tr>\n",
       "    <tr>\n",
       "      <th>2</th>\n",
       "      <td>2</td>\n",
       "      <td>Scheduled</td>\n",
       "      <td>Right wing group labelling resource document \"...</td>\n",
       "      <td>143</td>\n",
       "      <td>lbwl1r</td>\n",
       "      <td>https://www.reddit.com/r/india/comments/lbwl1r...</td>\n",
       "      <td>17</td>\n",
       "      <td>Recently Greta Thunberg tweeted \"toolkit\" peop...</td>\n",
       "      <td>gobargorab</td>\n",
       "      <td>Anything father modi make go crazy upset. That...</td>\n",
       "      <td>2021-02-04 09:27:18</td>\n",
       "      <td>Right wing group labelling resource document \"...</td>\n",
       "    </tr>\n",
       "    <tr>\n",
       "      <th>3</th>\n",
       "      <td>3</td>\n",
       "      <td>Food</td>\n",
       "      <td>Ask: What amount pocket money give children?</td>\n",
       "      <td>5</td>\n",
       "      <td>m0auzn</td>\n",
       "      <td>https://www.reddit.com/r/india/comments/m0auzn...</td>\n",
       "      <td>39</td>\n",
       "      <td>Also, supposed buy pocket money actually spend...</td>\n",
       "      <td>what_is_inflation</td>\n",
       "      <td>You guy get pocket money? My parent never gave...</td>\n",
       "      <td>2021-03-08 21:25:43</td>\n",
       "      <td>Ask: What amount pocket money give children?Yo...</td>\n",
       "    </tr>\n",
       "    <tr>\n",
       "      <th>4</th>\n",
       "      <td>4</td>\n",
       "      <td>Photography</td>\n",
       "      <td>I’ve Recently generated interest photography, ...</td>\n",
       "      <td>0</td>\n",
       "      <td>aaakn4</td>\n",
       "      <td>https://i.redd.it/9tcehs8vz0721.jpg</td>\n",
       "      <td>14</td>\n",
       "      <td>NaN</td>\n",
       "      <td>thesarcasticpage</td>\n",
       "      <td>A photo like letter viewer story want convey. ...</td>\n",
       "      <td>2018-12-29 03:35:37</td>\n",
       "      <td>I’ve Recently generated interest photography, ...</td>\n",
       "    </tr>\n",
       "  </tbody>\n",
       "</table>\n",
       "</div>"
      ],
      "text/plain": [
       "   Unnamed: 0             flair  \\\n",
       "0           0  Business/Finance   \n",
       "1           1              Food   \n",
       "2           2         Scheduled   \n",
       "3           3              Food   \n",
       "4           4       Photography   \n",
       "\n",
       "                                               title  score      id  \\\n",
       "0  Interest PF taxable: Finance minister eye PF i...     51  laoy5g   \n",
       "1                   How survive 500rs(food) 2 weeks?     55  kr3ztg   \n",
       "2  Right wing group labelling resource document \"...    143  lbwl1r   \n",
       "3       Ask: What amount pocket money give children?      5  m0auzn   \n",
       "4  I’ve Recently generated interest photography, ...      0  aaakn4   \n",
       "\n",
       "                                                 url  comms_num  \\\n",
       "0  https://timesofindia.indiatimes.com/business/i...         20   \n",
       "1  https://www.reddit.com/r/india/comments/kr3ztg...         79   \n",
       "2  https://www.reddit.com/r/india/comments/lbwl1r...         17   \n",
       "3  https://www.reddit.com/r/india/comments/m0auzn...         39   \n",
       "4                https://i.redd.it/9tcehs8vz0721.jpg         14   \n",
       "\n",
       "                                                body             author  \\\n",
       "0                                                NaN           satyasys   \n",
       "1  Hey guys. So time salary going late I'll recei...             Luc_90   \n",
       "2  Recently Greta Thunberg tweeted \"toolkit\" peop...         gobargorab   \n",
       "3  Also, supposed buy pocket money actually spend...  what_is_inflation   \n",
       "4                                                NaN   thesarcasticpage   \n",
       "\n",
       "                                            comments            timestamp  \\\n",
       "0  PF return fully taxable, point investing PF. G...  2021-02-02 19:30:37   \n",
       "1  1. 2 kg cheap rice, 50/kg so, (Don't buy boile...  2021-01-06 07:40:59   \n",
       "2  Anything father modi make go crazy upset. That...  2021-02-04 09:27:18   \n",
       "3  You guy get pocket money? My parent never gave...  2021-03-08 21:25:43   \n",
       "4  A photo like letter viewer story want convey. ...  2018-12-29 03:35:37   \n",
       "\n",
       "                                   combined_features  \n",
       "0  Interest PF taxable: Finance minister eye PF i...  \n",
       "1  How survive 500rs(food) 2 weeks?1. 2 kg cheap ...  \n",
       "2  Right wing group labelling resource document \"...  \n",
       "3  Ask: What amount pocket money give children?Yo...  \n",
       "4  I’ve Recently generated interest photography, ...  "
      ]
     },
     "execution_count": 29,
     "metadata": {},
     "output_type": "execute_result"
    }
   ],
   "source": [
    "pd.read_csv('data.csv').head()"
   ]
  },
  {
   "cell_type": "code",
   "execution_count": null,
   "metadata": {},
   "outputs": [],
   "source": []
  }
 ],
 "metadata": {
  "kernelspec": {
   "display_name": "Python 3",
   "language": "python",
   "name": "python3"
  },
  "language_info": {
   "codemirror_mode": {
    "name": "ipython",
    "version": 3
   },
   "file_extension": ".py",
   "mimetype": "text/x-python",
   "name": "python",
   "nbconvert_exporter": "python",
   "pygments_lexer": "ipython3",
   "version": "3.8.5"
  }
 },
 "nbformat": 4,
 "nbformat_minor": 4
}
